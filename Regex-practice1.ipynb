{
 "cells": [
  {
   "cell_type": "code",
   "execution_count": 10,
   "id": "f4d02a22",
   "metadata": {},
   "outputs": [],
   "source": [
    "import re\n",
    "import numpy as np\n",
    "import pandas as pd"
   ]
  },
  {
   "cell_type": "markdown",
   "id": "2e961566",
   "metadata": {},
   "source": [
    "# Regex used in NLP mainly.\n",
    "# In this lecture using Regex for finding the patterns, extracting the information. \n",
    "#  Pattern matching.\n",
    "# Regex comes very handy when Text processing, Text analytics.\n",
    "# Helps in searching, passing, manupulating the textual data."
   ]
  },
  {
   "cell_type": "markdown",
   "id": "9758297d",
   "metadata": {},
   "source": [
    "# What are the two main characters Regex can do ?"
   ]
  },
  {
   "cell_type": "markdown",
   "id": "23df95be",
   "metadata": {},
   "source": [
    "# --- Removing special characters or numbers from strings. \n",
    "# --- Validate the text.\n",
    "# --- Captcha validation.\n",
    "# --- Pattern matching.\n",
    "# --- Remove tags from web scraped data."
   ]
  },
  {
   "cell_type": "code",
   "execution_count": 11,
   "id": "69f67b57",
   "metadata": {},
   "outputs": [
    {
     "name": "stderr",
     "output_type": "stream",
     "text": [
      "Downloading...\n",
      "From: https://drive.google.com/uc?id=1sSDV5UspYZL3UUOGuiuxppSGcv1wS9ex\n",
      "To: C:\\Users\\DELL\\Documents\\Kynea\\data.txt\n",
      "\n",
      "  0%|          | 0.00/9.33k [00:00<?, ?B/s]\n",
      "100%|##########| 9.33k/9.33k [00:00<00:00, 8.68MB/s]\n"
     ]
    }
   ],
   "source": [
    "!gdown 1sSDV5UspYZL3UUOGuiuxppSGcv1wS9ex"
   ]
  },
  {
   "cell_type": "code",
   "execution_count": 12,
   "id": "673eac0e",
   "metadata": {},
   "outputs": [],
   "source": [
    "data = open(r\"C:\\Users\\DELL\\Desktop\\Scaler Numpy, Pandas, Regular expressions\\data.txt\" , \"r\").read()"
   ]
  },
  {
   "cell_type": "code",
   "execution_count": 13,
   "id": "14d790da",
   "metadata": {},
   "outputs": [
    {
     "name": "stdout",
     "output_type": "stream",
     "text": [
      "Dave Martin\n",
      "615-555-7164\n",
      "173 Main St., Springfield RI 55924\n",
      "davemartin@bogusemail.com\n",
      "\n",
      "Charles Harris\n",
      "800-555-5669\n",
      "969 High St., Atlantis VA 34075\n",
      "charlesharris@bogusemail.com\n",
      "\n",
      "Eric Williams\n",
      "560-555-5153\n",
      "806 1st St., Faketown AK 86847\n",
      "laurawilliams@bogusemail.com\n",
      "\n",
      "Corey Jefferson\n",
      "900-555-9340\n",
      "826 Elm St., Epicburg NE 10671\n",
      "coreyjefferson@bogusemail.com\n",
      "\n",
      "Jennifer Martin-White\n",
      "714-555-7405\n",
      "212 Cedar St., Sunnydale CT 74983\n",
      "jenniferwhite@bogusemail.com\n",
      "\n",
      "Erick Davis\n",
      "800-555-6771\n",
      "519 Washington St., Olympus TN 32425\n",
      "tomdavis@bogusemail.com\n",
      "\n",
      "Neil Patterson\n",
      "783-555-4799\n",
      "625 Oak St., Dawnstar IL 61914\n",
      "neilpatterson@bogusemail.com\n",
      "\n",
      "Laura Jefferson\n",
      "516-555-4615\n",
      "890 Main St., Pythonville LA 29947\n",
      "laurajefferson@bogusemail.com\n",
      "\n",
      "Maria Johnson\n",
      "127-555-1867\n",
      "884 High St., Braavosâ€Ž ME 43597\n",
      "mariajohnson@bogusemail.com\n",
      "\n",
      "Michael Arnold\n",
      "608-555-4938\n",
      "249 Elm St., Quahog OR 90938\n",
      "michaelarnold@bogusemail.com\n",
      "\n",
      "Michael Smith\n",
      "568-555-6051\n",
      "619 Park St., Winterfell VA 99000\n",
      "michaelsmith@bogusemail.com\n",
      "\n",
      "Erik Stuart\n",
      "292-555-1875\n",
      "220 Cedar St., Lakeview NY 87282\n",
      "robertstuart@bogusemail.com\n",
      "\n",
      "Laura Martin\n",
      "900-555-3205\n",
      "391 High St., Smalltown WY 28362\n",
      "lauramartin@bogusemail.com\n",
      "\n",
      "Barbara Martin\n",
      "614-555-1166\n",
      "121 Hill St., Braavosâ€Ž UT 92474\n",
      "barbaramartin@bogusemail.com\n",
      "\n",
      "Linda Jackson\n",
      "530-555-2676\n",
      "433 Elm St., Westworld TX 61967\n",
      "lindajackson@bogusemail.com\n",
      "\n",
      "Eric Miller\n",
      "470-555-2750\n",
      "838 Main St., Balmora MT 56526\n",
      "stevemiller@bogusemail.com\n",
      "\n",
      "Dave Arnold\n",
      "800-555-6089\n",
      "732 High St., Valyria KY 97152\n",
      "davearnold@bogusemail.com\n",
      "\n",
      "Jennifer Jacobs\n",
      "880-555-8319\n",
      "217 High St., Old-town IA 82767\n",
      "jenniferjacobs@bogusemail.com\n",
      "\n",
      "Neil Wilson\n",
      "777-555-8378\n",
      "191 Main St., Mordor IL 72160\n",
      "neilwilson@bogusemail.com\n",
      "\n",
      "Kurt Jackson\n",
      "998-555-7385\n",
      "607 Washington St., Blackwater NH 97183\n",
      "kurtjackson@bogusemail.com\n",
      "\n",
      "Mary Jacobs\n",
      "800-555-7100\n",
      "478 Oak St., Bedrock IA 58176\n",
      "maryjacobs@bogusemail.com\n",
      "\n",
      "Michael White\n",
      "903-555-8277\n",
      "906 Elm St., Mordor TX 89212\n",
      "michaelwhite@bogusemail.com\n",
      "\n",
      "Jennifer Jenkins\n",
      "196-555-5674\n",
      "949 Main St., Smalltown SC 96962\n",
      "jenniferjenkins@bogusemail.com\n",
      "\n",
      "Sam Wright\n",
      "900-555-5118\n",
      "835 Pearl St., Smalltown ND 77737\n",
      "samwright@bogusemail.com\n",
      "\n",
      "John Davis\n",
      "905-555-1630\n",
      "451 Lake St., Bedrock GA 34615\n",
      "johndavis@bogusemail.com\n",
      "\n",
      "Eric Davis\n",
      "203-555-3475\n",
      "419 Lake St., Balmora OR 30826\n",
      "neildavis@bogusemail.com\n",
      "\n",
      "Laura Jackson\n",
      "884-555-8444\n",
      "443 Maple St., Quahog MS 29348\n",
      "laurajackson@bogusemail.com\n",
      "\n",
      "John Williams\n",
      "904-555-8559\n",
      "756 Hill St., Valyria KY 94854\n",
      "johnwilliams@bogusemail.com\n",
      "\n",
      "Michael Martin\n",
      "889-555-7393\n",
      "216 High St., Olympus NV 21888\n",
      "michaelmartin@bogusemail.com\n",
      "\n",
      "Maggie Brown\n",
      "195-555-2405\n",
      "806 Lake St., Lakeview MD 59348\n",
      "maggiebrown@bogusemail.com\n",
      "\n",
      "Erik Wilson\n",
      "321-555-9053\n",
      "354 Hill St., Mordor FL 74122\n",
      "kurtwilson@bogusemail.com\n",
      "\n",
      "Elizabeth Arnold\n",
      "133-555-1711\n",
      "805 Maple St., Winterfell NV 99431\n",
      "elizabetharnold@bogusemail.com\n",
      "\n",
      "Jane Martin\n",
      "900-555-5428\n",
      "418 Park St., Metropolis ID 16576\n",
      "janemartin@bogusemail.com\n",
      "\n",
      "Travis Johnson\n",
      "760-555-7147\n",
      "749 Washington St., Braavosâ€Ž SD 25668\n",
      "travisjohnson@bogusemail.com\n",
      "\n",
      "Laura Jefferson\n",
      "391-555-6621\n",
      "122 High St., Metropolis ME 29540\n",
      "laurajefferson@bogusemail.com\n",
      "\n",
      "Tom Williams\n",
      "932-555-7724\n",
      "610 High St., Old-town FL 60758\n",
      "tomwilliams@bogusemail.com\n",
      "\n",
      "Jennifer Taylor\n",
      "609-555-7908\n",
      "332 Main St., Pythonville OH 78172\n",
      "jennifertaylor@bogusemail.com\n",
      "\n",
      "Erick Wright\n",
      "800-555-8810\n",
      "858 Hill St., Blackwater NC 79714\n",
      "jenniferwright@bogusemail.com\n",
      "\n",
      "Steve Doe\n",
      "149-555-7657\n",
      "441 Elm St., Atlantis MS 87195\n",
      "stevedoe@bogusemail.com\n",
      "\n",
      "Kurt Davis\n",
      "130-555-9709\n",
      "404 Oak St., Atlantis ND 85386\n",
      "kurtdavis@bogusemail.com\n",
      "\n",
      "Corey Harris\n",
      "143-555-9295\n",
      "286 Pearl St., Vice City TX 57112\n",
      "coreyharris@bogusemail.com\n",
      "\n",
      "Nicole Taylor\n",
      "903-555-9878\n",
      "465 Hill St., Old-town LA 64102\n",
      "nicoletaylor@bogusemail.com\n",
      "\n",
      "Elizabeth Davis\n",
      "574-555-3194\n",
      "151 Lake St., Eerie SD 17880\n",
      "elizabethdavis@bogusemail.com\n",
      "\n",
      "Maggie Jenkins\n",
      "496-555-7533\n",
      "504 Lake St., Gotham PA 46692\n",
      "maggiejenkins@bogusemail.com\n",
      "\n",
      "Linda Davis\n",
      "210-555-3757\n",
      "201 Pine St., Vice City AR 78455\n",
      "lindadavis@bogusemail.com\n",
      "\n",
      "Dave Moore\n",
      "900-555-9598\n",
      "251 Pine St., Old-town OK 29087\n",
      "davemoore@bogusemail.com\n",
      "\n",
      "Linda Jenkins\n",
      "866-555-9844\n",
      "117 High St., Bedrock NE 11899\n",
      "lindajenkins@bogusemail.com\n",
      "\n",
      "Eric White\n",
      "669-555-7159\n",
      "650 Oak St., Smalltown TN 43281\n",
      "samwhite@bogusemail.com\n",
      "\n",
      "Laura Robinson\n",
      "152-555-7417\n",
      "377 Pine St., Valyria NC 78036\n",
      "laurarobinson@bogusemail.com\n",
      "\n",
      "Charles Patterson\n",
      "893-555-9832\n",
      "416 Pearl St., Valyria AK 62260\n",
      "charlespatterson@bogusemail.com\n",
      "\n",
      "Joe Jackson\n",
      "217-555-7123\n",
      "683 Cedar St., South Park KS 66724\n",
      "joejackson@bogusemail.com\n",
      "\n",
      "Michael Johnson\n",
      "786-555-6544\n",
      "288 Hill St., Smalltown AZ 18586\n",
      "michaeljohnson@bogusemail.com\n",
      "\n",
      "Corey Miller\n",
      "780-555-2574\n",
      "286 High St., Springfield IA 16272\n",
      "coreymiller@bogusemail.com\n",
      "\n",
      "James Moore\n",
      "926-555-8735\n",
      "278 Main St., Gotham KY 89569\n",
      "jamesmoore@bogusemail.com\n",
      "\n",
      "Jennifer Stuart\n",
      "895-555-3539\n",
      "766 Hill St., King's Landing GA 54999\n",
      "jenniferstuart@bogusemail.com\n",
      "\n",
      "Charles Martin\n",
      "874-555-3949\n",
      "775 High St., Faketown PA 89260\n",
      "charlesmartin@bogusemail.com\n",
      "\n",
      "Eric Wilks\n",
      "800-555-2420\n",
      "885 Main St., Blackwater OH 61275\n",
      "joewilks@bogusemail.com\n",
      "\n",
      "Elizabeth Arnold\n",
      "936-555-6340\n",
      "528 Hill St., Atlantis NH 88289\n",
      "elizabetharnold@bogusemail.com\n",
      "\n",
      "John Miller\n",
      "372-555-9809\n",
      "117 Cedar St., Thundera NM 75205\n",
      "johnmiller@bogusemail.com\n",
      "\n",
      "Corey Jackson\n",
      "890-555-5618\n",
      "115 Oak St., Gotham UT 36433\n",
      "coreyjackson@bogusemail.com\n",
      "\n",
      "Sam Thomas\n",
      "670-555-3005\n",
      "743 Lake St., Springfield MS 25473\n",
      "samthomas@bogusemail.com\n",
      "\n",
      "Patricia Thomas\n",
      "509-555-5997\n",
      "381 Hill St., Blackwater CT 30958\n",
      "patriciathomas@bogusemail.com\n",
      "\n",
      "Jennifer Davis\n",
      "721-555-5632\n",
      "125 Main St., Smalltown MT 62155\n",
      "jenniferdavis@bogusemail.com\n",
      "\n",
      "Patricia Brown\n",
      "900-555-3567\n",
      "292 Hill St., Gotham WV 57680\n",
      "patriciabrown@bogusemail.com\n",
      "\n",
      "Barbara Williams\n",
      "147-555-6830\n",
      "514 Park St., Balmora NV 55462\n",
      "barbarawilliams@bogusemail.com\n",
      "\n",
      "James Taylor\n",
      "582-555-3426\n",
      "776 Hill St., Dawnstar MA 51312\n",
      "jamestaylor@bogusemail.com\n",
      "\n",
      "Eric Harris\n",
      "400-555-1706\n",
      "421 Elm St., Smalltown NV 72025\n",
      "barbaraharris@bogusemail.com\n",
      "\n",
      "Travis Anderson\n",
      "525-555-1793\n",
      "937 Cedar St., Thundera WA 78862\n",
      "travisanderson@bogusemail.com\n",
      "\n",
      "Sam Robinson\n",
      "317-555-6700\n",
      "417 Pine St., Lakeview MD 13147\n",
      "samrobinson@bogusemail.com\n",
      "\n",
      "Steve Robinson\n",
      "974-555-8301\n",
      "478 Park St., Springfield NM 92369\n",
      "steverobinson@bogusemail.com\n",
      "\n",
      "Mary Wilson\n",
      "800-555-3216\n",
      "708 Maple St., Braavosâ€Ž UT 29551\n",
      "marywilson@bogusemail.com\n",
      "\n",
      "Sam Wilson\n",
      "746-555-4094\n",
      "557 Pearl St., Westworld KS 23225\n",
      "samwilson@bogusemail.com\n",
      "\n",
      "Charles Jones\n",
      "922-555-1773\n",
      "855 Hill St., Olympus HI 81427\n",
      "charlesjones@bogusemail.com\n",
      "\n",
      "Laura Brown\n",
      "711-555-4427\n",
      "980 Maple St., Smalltown MO 96421\n",
      "laurabrown@bogusemail.com\n",
      "\n",
      "Tom Harris\n",
      "355-555-1872\n",
      "676 Hill St., Blackwater AR 96698\n",
      "tomharris@bogusemail.com\n",
      "\n",
      "Patricia Taylor\n",
      "852-555-6521\n",
      "588 Pine St., Olympus FL 98412\n",
      "patriciataylor@bogusemail.com\n",
      "\n",
      "Barbara Williams\n",
      "691-555-5773\n",
      "351 Elm St., Sunnydale GA 26245\n",
      "barbarawilliams@bogusemail.com\n",
      "\n",
      "Maggie Johnson\n",
      "332-555-5441\n",
      "948 Cedar St., Quahog DE 56449\n",
      "maggiejohnson@bogusemail.com\n",
      "\n",
      "Kurt Miller\n",
      "900-555-7755\n",
      "381 Hill St., Quahog AL 97503\n",
      "kurtmiller@bogusemail.com\n",
      "\n",
      "Neil Stuart\n",
      "379-555-3685\n",
      "496 Cedar St., Sunnydale RI 49113\n",
      "neilstuart@bogusemail.com\n",
      "\n",
      "Linda Patterson\n",
      "127-555-9682\n",
      "736 Cedar St., Lakeview KY 47472\n",
      "lindapatterson@bogusemail.com\n",
      "\n",
      "Charles Davis\n",
      "789-555-7032\n",
      "678 Lake St., Mordor MN 11845\n",
      "charlesdavis@bogusemail.com\n",
      "\n",
      "Jennifer Jefferson\n",
      "783-555-5135\n",
      "289 Park St., Sunnydale WA 74526\n",
      "jenniferjefferson@bogusemail.com\n",
      "\n",
      "Erick Taylor\n",
      "315-555-6507\n",
      "245 Washington St., Bedrock IL 26941\n",
      "coreytaylor@bogusemail.com\n",
      "\n",
      "Robert Wilks\n",
      "481-555-5835\n",
      "573 Elm St., Sunnydale IL 47182\n",
      "robertwilks@bogusemail.com\n",
      "\n",
      "Travis Jackson\n",
      "365-555-8287\n",
      "851 Lake St., Metropolis PA 22772\n",
      "travisjackson@bogusemail.com\n",
      "\n",
      "Travis Jackson\n",
      "911-555-7535\n",
      "489 Oak St., Atlantis HI 73725\n",
      "travisjackson@bogusemail.com\n",
      "\n",
      "Laura Wilks\n",
      "681-555-2460\n",
      "371 Pearl St., Smalltown SC 47466\n",
      "laurawilks@bogusemail.com\n",
      "\n",
      "Neil Arnold\n",
      "274-555-9800\n",
      "504 Oak St., Faketown PA 73860\n",
      "neilarnold@bogusemail.com\n",
      "\n",
      "Linda Johnson\n",
      "800-555-1372\n",
      "667 High St., Balmora IN 82473\n",
      "lindajohnson@bogusemail.com\n",
      "\n",
      "Jennifer Wilson\n",
      "300-555-7821\n",
      "266 Pine St., Westworld DC 58720\n",
      "jenniferwilson@bogusemail.com\n",
      "\n",
      "Nicole White\n",
      "133-555-3889\n",
      "276 High St., Braavosâ€Ž IL 57764\n",
      "nicolewhite@bogusemail.com\n",
      "\n",
      "Maria Arnold\n",
      "705-555-6863\n",
      "491 Elm St., Metropolis PA 31836\n",
      "mariaarnold@bogusemail.com\n",
      "\n",
      "Jennifer Davis\n",
      "215-555-9449\n",
      "859 Cedar St., Old-town MT 31169\n",
      "jenniferdavis@bogusemail.com\n",
      "\n",
      "Mary Patterson\n",
      "988-555-6112\n",
      "956 Park St., Valyria CT 81541\n",
      "marypatterson@bogusemail.com\n",
      "\n",
      "Jane Stuart\n",
      "623-555-3006\n",
      "983 Oak St., Old-town RI 15445\n",
      "janestuart@bogusemail.com\n",
      "\n",
      "Robert Davis\n",
      "192-555-4977\n",
      "789 Maple St., Mordor IN 22215\n",
      "robertdavis@bogusemail.com\n",
      "\n",
      "James Taylor\n",
      "178-555-4899\n",
      "439 Hill St., Olympus NV 39308\n",
      "jamestaylor@bogusemail.com\n",
      "\n",
      "Eric Stuart\n",
      "952-555-3089\n",
      "777 High St., King's Landing AZ 16547\n",
      "johnstuart@bogusemail.com\n",
      "\n",
      "Charles Miller\n",
      "900-555-6426\n",
      "207 Washington St., Blackwater MA 24886\n",
      "charlesmiller@bogusemail.com\n"
     ]
    }
   ],
   "source": [
    "print(data)"
   ]
  },
  {
   "cell_type": "markdown",
   "id": "79b375ec",
   "metadata": {},
   "source": [
    "# Lecture agenda.\n",
    "\n",
    "# 1. Check if the particular string follows a pattern.\n",
    "# 2. Find the pattern anywhere in the string."
   ]
  },
  {
   "cell_type": "markdown",
   "id": "29e29b9b",
   "metadata": {},
   "source": [
    "# Create masking on emails."
   ]
  },
  {
   "cell_type": "code",
   "execution_count": 19,
   "id": "c76d4acc",
   "metadata": {},
   "outputs": [],
   "source": [
    "def mask_email(s):\n",
    "    if \"@\" in s:\n",
    "        name,domain = s.split(\"@\")\n",
    "        return f\"{name[0]}#####{name[-1]}@{domain}\""
   ]
  },
  {
   "cell_type": "code",
   "execution_count": 21,
   "id": "a158dc8c",
   "metadata": {},
   "outputs": [
    {
     "data": {
      "text/plain": [
       "'b#####h@gmail.com'"
      ]
     },
     "execution_count": 21,
     "metadata": {},
     "output_type": "execute_result"
    }
   ],
   "source": [
    "email_1 = \"boppudichandrakanth@gmail.com\"\n",
    "mask_email(email_1)"
   ]
  },
  {
   "cell_type": "code",
   "execution_count": 23,
   "id": "72a105d3",
   "metadata": {},
   "outputs": [
    {
     "data": {
      "text/plain": [
       "'c#####i@mail.bradley.edu'"
      ]
     },
     "execution_count": 23,
     "metadata": {},
     "output_type": "execute_result"
    }
   ],
   "source": [
    "mask_email(\"cboppudi@mail.bradley.edu\")"
   ]
  },
  {
   "cell_type": "code",
   "execution_count": 25,
   "id": "32d3529f",
   "metadata": {},
   "outputs": [
    {
     "data": {
      "text/plain": [
       "'c#####i@kynea.io'"
      ]
     },
     "execution_count": 25,
     "metadata": {},
     "output_type": "execute_result"
    }
   ],
   "source": [
    "mask_email(\"chandrakanth.boppudi@kynea.io\")"
   ]
  },
  {
   "cell_type": "code",
   "execution_count": 27,
   "id": "f978ee4b",
   "metadata": {},
   "outputs": [],
   "source": [
    "mask_email(\"chandrakanthscaler.com\")"
   ]
  },
  {
   "cell_type": "code",
   "execution_count": 72,
   "id": "539afa9f",
   "metadata": {},
   "outputs": [],
   "source": [
    "import re # Importing the library regex\n",
    "\n",
    "def is_vemail(s):\n",
    "    email_pattern = \"^\\w+([\\.-]?\\w+)*@\\w+([\\.-]?\\w+)*(\\.\\w{2,3})+$\"\n",
    "    res = re.search(email_pattern , s)\n",
    "    \n",
    "    # Scan through string looking for the first location where pattern is found.\n",
    "    # we will be discussing about re module later. \n",
    "    \n",
    "    if res:\n",
    "        return \"Valid Email adress\"\n",
    "    else:\n",
    "        return \"In-valid Email adress\""
   ]
  },
  {
   "cell_type": "code",
   "execution_count": 73,
   "id": "f5f8bd1f",
   "metadata": {},
   "outputs": [
    {
     "data": {
      "text/plain": [
       "'Valid Email adress'"
      ]
     },
     "execution_count": 73,
     "metadata": {},
     "output_type": "execute_result"
    }
   ],
   "source": [
    "is_vemail(\"boppudichandrakanth@gmail.com\")"
   ]
  },
  {
   "cell_type": "code",
   "execution_count": 74,
   "id": "c06b55d1",
   "metadata": {},
   "outputs": [
    {
     "data": {
      "text/plain": [
       "'Valid Email adress'"
      ]
     },
     "execution_count": 74,
     "metadata": {},
     "output_type": "execute_result"
    }
   ],
   "source": [
    "is_vemail(\"boppudi.chandrakanth@kynea.io\")"
   ]
  },
  {
   "cell_type": "code",
   "execution_count": 75,
   "id": "fd0e8ddb",
   "metadata": {},
   "outputs": [
    {
     "data": {
      "text/plain": [
       "'Valid Email adress'"
      ]
     },
     "execution_count": 75,
     "metadata": {},
     "output_type": "execute_result"
    }
   ],
   "source": [
    "is_vemail(\"cboppudi@mail.bradley.edu\")"
   ]
  },
  {
   "cell_type": "code",
   "execution_count": 77,
   "id": "1b0e1068",
   "metadata": {},
   "outputs": [
    {
     "data": {
      "text/plain": [
       "'Valid Email adress'"
      ]
     },
     "execution_count": 77,
     "metadata": {},
     "output_type": "execute_result"
    }
   ],
   "source": [
    "is_vemail(\"prasad.dasika@kynea.io\")"
   ]
  },
  {
   "cell_type": "markdown",
   "id": "765b683a",
   "metadata": {},
   "source": [
    "# Define Regular expression (Regex)?\n",
    "# ----- Regex can be used in any programming language as a highly specialised program used to find the pattern in the strings. "
   ]
  },
  {
   "cell_type": "markdown",
   "id": "abacec78",
   "metadata": {},
   "source": [
    "# 1. Regular expressions are case sensitive."
   ]
  },
  {
   "cell_type": "markdown",
   "id": "1d2cb6b7",
   "metadata": {},
   "source": [
    "# 2. Order of what we are searching for matters in Regex."
   ]
  },
  {
   "cell_type": "markdown",
   "id": "ec2a4196",
   "metadata": {},
   "source": [
    "# 3. Regex identifies the capital letters as capitals only. "
   ]
  },
  {
   "cell_type": "markdown",
   "id": "0b10ef37",
   "metadata": {},
   "source": [
    "# 4. Dot(.) matches all the characters of the text provided, except the line breaks. Note - The dot(.) matches the each and single character of the text."
   ]
  },
  {
   "cell_type": "markdown",
   "id": "220a80d3",
   "metadata": {},
   "source": [
    "# 5. Backslash and dot (\\\\.)also called as the escaped character gives matches all the dots(.) present in the text. Here the backslash is turning off the special functionality of dot(.)"
   ]
  },
  {
   "cell_type": "markdown",
   "id": "442be91c",
   "metadata": {},
   "source": [
    "# 6. If at some point we have to search for the backslash(\\\\) and dot(.) a single backslash (\\\\) is used to ignore the dot(.) and we have to povide the double backslash (\\\\\\.)"
   ]
  },
  {
   "cell_type": "markdown",
   "id": "1cebdf85",
   "metadata": {},
   "source": [
    "# 7. \"\\d\" is used to fing all the digits in the text. \"\\d\\d\" is used to find the continous pair of digits."
   ]
  },
  {
   "cell_type": "markdown",
   "id": "aac9e2a3",
   "metadata": {},
   "source": [
    "# 8. # \"\\D\" finds out all the characters of the text that are not digits."
   ]
  },
  {
   "cell_type": "markdown",
   "id": "2f21b7be",
   "metadata": {},
   "source": [
    "# 9. \"\\w\" finds out all the characters that are alpha-numeric(a-z,A-Z,0-9) including underscore(_)"
   ]
  },
  {
   "cell_type": "markdown",
   "id": "209a22c4",
   "metadata": {},
   "source": [
    "# 10. \"\\W\" (capital W) finds out all the chracters other than alpha-numeric and undersscore(_)."
   ]
  },
  {
   "cell_type": "markdown",
   "id": "29d63320",
   "metadata": {},
   "source": [
    "# 11. \"\\s\" finds out all the spaces, tabs and new lines that are present. "
   ]
  },
  {
   "cell_type": "markdown",
   "id": "5a24d5e5",
   "metadata": {},
   "source": [
    "# 12. \"\\S\" (capital S) finds out all the characters except the spaces , tabs and new line."
   ]
  },
  {
   "cell_type": "markdown",
   "id": "4eb12e85",
   "metadata": {},
   "source": [
    "# 13. \"\\b\" creates a boundary and finds out if there is any word starting with the given statement. (example - \\bHA).\n"
   ]
  },
  {
   "cell_type": "markdown",
   "id": "57bb7292",
   "metadata": {},
   "source": [
    "# 14. In reverse \"\\B\" ignores the first occurence of the word to be found and find out all other instances where the word is present except the first instance."
   ]
  },
  {
   "cell_type": "markdown",
   "id": "0fd7b29d",
   "metadata": {},
   "source": [
    "# 15. \"^ab\" searches the entire txt or string given and searches if it starts with \"ab\"."
   ]
  },
  {
   "cell_type": "markdown",
   "id": "75291c20",
   "metadata": {},
   "source": [
    "# 16. \"Mr. T$\" searches the entire txt or string given and checks if it ends with the given particular string or not in this case being \"Mr. T\""
   ]
  },
  {
   "cell_type": "code",
   "execution_count": null,
   "id": "91332b1d",
   "metadata": {},
   "outputs": [],
   "source": []
  },
  {
   "cell_type": "markdown",
   "id": "4041eed7",
   "metadata": {},
   "source": [
    "# Unerstanding the Email Pattern."
   ]
  },
  {
   "cell_type": "code",
   "execution_count": 60,
   "id": "ac7f8f10",
   "metadata": {},
   "outputs": [],
   "source": [
    "# \"^\\w\"+([\\.-]?)\\w+)*@\\w+([\\.-]?w+)*(\\.\\w{2,3})+$ "
   ]
  },
  {
   "cell_type": "code",
   "execution_count": 58,
   "id": "b7a3ff00",
   "metadata": {},
   "outputs": [],
   "source": [
    "# --- \"^\\w+\" \n",
    "\n",
    "\n",
    "# Checks if the email starts with a single word(\\w) or more mords(+) in the entire text(^).\n",
    "# \"\\w\" finds out all the characters that are alpha-numeric(a-z,A-Z,0-9) including underscore(_)."
   ]
  },
  {
   "cell_type": "code",
   "execution_count": 59,
   "id": "a3e5d0b4",
   "metadata": {},
   "outputs": [],
   "source": [
    "# --- \"([\\.-]?\\w)*@\\w+\" \n",
    "\n",
    "\n",
    "# () Brackets are for grouping\n",
    "# checks after the words, if there is is a dot(\\.) or([]) dash(-) and then checks\"\\w\" if there are any other one or more words.\n",
    "# \"*\" for zero or more times.\n",
    "# And then @\". After the \"@\" single word(\\d) or more words (+)."
   ]
  },
  {
   "cell_type": "code",
   "execution_count": 56,
   "id": "394ff02c",
   "metadata": {},
   "outputs": [],
   "source": [
    "# --- \"([\\.-]?w+)*\"\n",
    "\n",
    "\n",
    "# () Brackets are for grouping\n",
    "# Checks after the words if there is a dot (\\.) or ([]) a das(-) for 0 or 1 times(?) and then the words (w+).\n",
    "# \"*\" for zero or more times."
   ]
  },
  {
   "cell_type": "code",
   "execution_count": 71,
   "id": "1ad82d2d",
   "metadata": {},
   "outputs": [],
   "source": [
    "# (\\.\\w{2,3})+$\n",
    "\n",
    "# () Brackets for grouping and then \"\"\\.\" dot that come before the ending the email.\n",
    "# \\w{2,3} represent the words with either 2 or three letters. \n",
    "# In other words we can say \\w{2,3} represents the range of words.\n",
    "# \"$\" represents the end of the string."
   ]
  },
  {
   "cell_type": "code",
   "execution_count": null,
   "id": "e0678810",
   "metadata": {},
   "outputs": [],
   "source": []
  }
 ],
 "metadata": {
  "kernelspec": {
   "display_name": "Python 3 (ipykernel)",
   "language": "python",
   "name": "python3"
  },
  "language_info": {
   "codemirror_mode": {
    "name": "ipython",
    "version": 3
   },
   "file_extension": ".py",
   "mimetype": "text/x-python",
   "name": "python",
   "nbconvert_exporter": "python",
   "pygments_lexer": "ipython3",
   "version": "3.9.7"
  }
 },
 "nbformat": 4,
 "nbformat_minor": 5
}
